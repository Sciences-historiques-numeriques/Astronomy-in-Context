{
 "cells": [
  {
   "cell_type": "code",
   "execution_count": 3,
   "id": "3d347d0a-e48a-4cb9-8ebd-7ecb1355b739",
   "metadata": {},
   "outputs": [],
   "source": [
    "import requests"
   ]
  },
  {
   "cell_type": "code",
   "execution_count": 1,
   "id": "7d4e57de-0021-42a2-be7f-4656de156f8a",
   "metadata": {},
   "outputs": [],
   "source": [
    "url = 'http://geovistory.org/resource/i785518'"
   ]
  },
  {
   "cell_type": "code",
   "execution_count": 4,
   "id": "31847976-e18b-4b3e-8f2e-46186c75a55d",
   "metadata": {},
   "outputs": [
    {
     "name": "stdout",
     "output_type": "stream",
     "text": [
      "<rdf:RDF\n",
      "    xmlns:rdf=\"http://www.w3.org/1999/02/22-rdf-syntax-ns#\"\n",
      "    xmlns:owl=\"http://www.w3.org/2002/07/owl#\"\n",
      "    xmlns:rdfs=\"http://www.w3.org/2000/01/rdf-schema#\"\n",
      "    xmlns:ontome=\"https://ontome.net/ontology/\" > \n",
      "  <rdf:Description rdf:about=\"http://geovistory.org/resource/i785518\">\n",
      "    <rdfs:label>Johannes Kepler</rdfs:label>\n",
      "    <rdf:type rdf:resource=\"https://ontome.net/ontology/c21\"/>\n",
      "    <owl:sameAs rdf:resource=\"https://dbpedia.org/resource/Johannes_Kepler\"/>\n",
      "    <ontome:p1943 rdf:resource=\"http://geovistory.org/resource/i3456336\"/>\n",
      "    <ontome:p1762 rdf:resource=\"http://geovistory.org/resource/i2246883\"/>\n",
      "    <rdf:type rdf:resource=\"http://www.w3.org/2000/01/rdf-schema#Resource\"/>\n",
      "    <owl:sameAs rdf:resource=\"http://viaf.org/viaf/41842150\"/>\n",
      "    <ontome:p1943 rdf:resource=\"http://geovistory.org/resource/i3456350\"/>\n",
      "    <ontome:p1943 rdf:resource=\"http://geovistory.org/resource/i3456346\"/>\n",
      "    <owl:sameAs rdf:resource=\"https://www.idref.fr/026947676/id\"/>\n",
      "    <ontome:p1429 rdf:resource=\"http://geovistory.org/resource/i739340\"/>\n",
      "  </rdf:Description>\n",
      "</rdf:RDF>\n",
      "\n"
     ]
    }
   ],
   "source": [
    "x = requests.get(url, headers = {\"Accept\": \"application/rdf+xml\"})\n",
    "\n",
    "print(x.text)"
   ]
  },
  {
   "cell_type": "code",
   "execution_count": null,
   "id": "2e35477e-0c4d-4571-8b1d-64ae3fc648ed",
   "metadata": {},
   "outputs": [],
   "source": []
  }
 ],
 "metadata": {
  "kernelspec": {
   "display_name": "HTML XML",
   "language": "python",
   "name": "py39_html_xml"
  },
  "language_info": {
   "codemirror_mode": {
    "name": "ipython",
    "version": 3
   },
   "file_extension": ".py",
   "mimetype": "text/x-python",
   "name": "python",
   "nbconvert_exporter": "python",
   "pygments_lexer": "ipython3",
   "version": "3.9.10"
  }
 },
 "nbformat": 4,
 "nbformat_minor": 5
}
