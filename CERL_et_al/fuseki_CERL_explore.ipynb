{
 "cells": [
  {
   "cell_type": "code",
   "execution_count": null,
   "id": "8f83124c-6ba0-49bf-abe2-b18bb43c291a",
   "metadata": {},
   "outputs": [],
   "source": []
  },
  {
   "cell_type": "code",
   "execution_count": 1,
   "id": "5e9c595f-996a-430d-8fcb-2152e7618e3f",
   "metadata": {},
   "outputs": [],
   "source": [
    "from SPARQLWrapper import SPARQLWrapper, SPARQLWrapper2, JSON, TURTLE, XML, RDFXML"
   ]
  },
  {
   "cell_type": "code",
   "execution_count": 2,
   "id": "fffa7c3c-1d27-4eb6-9203-b52a39e85e2f",
   "metadata": {},
   "outputs": [],
   "source": [
    "import sparql_functions as spqf\n",
    "# reload(spqf)"
   ]
  },
  {
   "cell_type": "code",
   "execution_count": 3,
   "id": "9e5133c9-a2d9-4a2c-81d5-eb47787b9b16",
   "metadata": {},
   "outputs": [],
   "source": [
    "endpoint = \"http://localhost:3232/BNF_store/\""
   ]
  },
  {
   "cell_type": "code",
   "execution_count": 4,
   "id": "c1759f8b-0272-4a4d-9c51-365d9bdc2bb4",
   "metadata": {},
   "outputs": [],
   "source": [
    "q1 = \"\"\"\n",
    "SELECT ?predicate (count(*) as ?eff)\n",
    "WHERE {\n",
    "  ?subject ?predicate ?object\n",
    "}\n",
    "group by ?predicate\n",
    "order by desc(?eff)\n",
    "\"\"\""
   ]
  },
  {
   "cell_type": "code",
   "execution_count": 5,
   "id": "a3162d62-220c-4901-8a0d-12516dbe6050",
   "metadata": {
    "tags": []
   },
   "outputs": [
    {
     "name": "stdout",
     "output_type": "stream",
     "text": [
      "<class 'dict'>\n"
     ]
    }
   ],
   "source": [
    "### Execute the SPARQL query\n",
    "qr = spqf.get_json_sparql_result(endpoint,q1)\n"
   ]
  },
  {
   "cell_type": "code",
   "execution_count": 6,
   "id": "d8c8d71b-87d3-4118-9aa7-852a6253a2f0",
   "metadata": {
    "scrolled": true,
    "tags": []
   },
   "outputs": [
    {
     "name": "stdout",
     "output_type": "stream",
     "text": [
      "4\n"
     ]
    },
    {
     "data": {
      "text/plain": [
       "[['http://rdvocab.info/ElementsGr2/biographicalInformation', '1352'],\n",
       " ['http://www.w3.org/1999/02/22-rdf-syntax-ns#type', '1352'],\n",
       " ['http://www.w3.org/2000/01/rdf-schema#label', '1352'],\n",
       " ['https://dbpedia.org/ontology/birthYear', '1352']]"
      ]
     },
     "execution_count": 6,
     "metadata": {},
     "output_type": "execute_result"
    }
   ],
   "source": [
    "r = [l for l in spqf.sparql_result_to_list(qr)]\n",
    "print(len(r))\n",
    "r[:50]"
   ]
  },
  {
   "cell_type": "code",
   "execution_count": null,
   "id": "96f24815-4c98-44b0-8edb-f9d9baae2361",
   "metadata": {},
   "outputs": [],
   "source": []
  },
  {
   "cell_type": "code",
   "execution_count": null,
   "id": "3856a20c-1b99-4e09-b477-8cd04d929c35",
   "metadata": {},
   "outputs": [],
   "source": []
  }
 ],
 "metadata": {
  "kernelspec": {
   "display_name": "Py3.10 sparql",
   "language": "python",
   "name": "py310_sparql"
  },
  "language_info": {
   "codemirror_mode": {
    "name": "ipython",
    "version": 3
   },
   "file_extension": ".py",
   "mimetype": "text/x-python",
   "name": "python",
   "nbconvert_exporter": "python",
   "pygments_lexer": "ipython3",
   "version": "3.10.9"
  }
 },
 "nbformat": 4,
 "nbformat_minor": 5
}
