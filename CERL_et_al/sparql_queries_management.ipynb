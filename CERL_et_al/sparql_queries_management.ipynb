{
 "cells": [
  {
   "cell_type": "code",
   "execution_count": null,
   "id": "caroline-needle",
   "metadata": {},
   "outputs": [],
   "source": []
  },
  {
   "cell_type": "code",
   "execution_count": null,
   "id": "applied-america",
   "metadata": {},
   "outputs": [],
   "source": []
  },
  {
   "cell_type": "code",
   "execution_count": null,
   "id": "circular-mailman",
   "metadata": {},
   "outputs": [],
   "source": []
  },
  {
   "cell_type": "code",
   "execution_count": 1,
   "id": "eight-mason",
   "metadata": {},
   "outputs": [],
   "source": [
    "import sqlite3 as sql\n",
    "import time\n",
    "from shutil import copyfile"
   ]
  },
  {
   "cell_type": "markdown",
   "id": "unauthorized-karaoke",
   "metadata": {},
   "source": [
    "### Producing a database for storing SPARQL queries and results"
   ]
  },
  {
   "cell_type": "code",
   "execution_count": 2,
   "id": "crazy-provincial",
   "metadata": {},
   "outputs": [],
   "source": [
    "db = 'db_stores/sparql_queries.db'   ### 'data/database.db'"
   ]
  },
  {
   "cell_type": "code",
   "execution_count": 3,
   "id": "remarkable-liberia",
   "metadata": {},
   "outputs": [
    {
     "name": "stdout",
     "output_type": "stream",
     "text": [
      "('2022-12-26 00:13:56',)\n"
     ]
    }
   ],
   "source": [
    "### Connecting to a SQLite database creates the database if it does not already exist\n",
    "# in the specified folder\n",
    "\n",
    "# connect and test connection\n",
    "cn = sql.connect(db)\n",
    "c = cn.cursor()\n",
    "c.execute(\"SELECT datetime('now', 'localtime')\")\n",
    "print(c.fetchone())\n",
    "cn.close()"
   ]
  },
  {
   "cell_type": "code",
   "execution_count": 10,
   "id": "compact-sister",
   "metadata": {
    "tags": []
   },
   "outputs": [],
   "source": [
    "cn = sql.connect(db)\n",
    "c = cn.cursor()\n",
    "\n",
    "# Create table\n",
    "# STOP # c.execute('''DROP TABLE query;''')\n",
    "\n",
    "c.execute('''CREATE TABLE query (pk_query INTEGER PRIMARY KEY,\n",
    "label VARCHAR (100),\n",
    "description TEXT,\n",
    "project VARCHAR (150),\n",
    "sparql_endpoint VARCHAR (250),\n",
    "query TEXT,\n",
    "notes TEXT, \n",
    "timestmp text DEFAULT ((datetime('now','localtime'))))\n",
    "''')\n",
    "\n",
    "# Save (commit) the changes\n",
    "cn.commit()\n",
    "cn.close()"
   ]
  },
  {
   "cell_type": "code",
   "execution_count": 11,
   "id": "amber-seafood",
   "metadata": {},
   "outputs": [],
   "source": [
    "cn = sql.connect(db)\n",
    "c = cn.cursor()\n",
    "\n",
    "# Create table\n",
    "# STOP # c.execute('''DROP TABLE result;''')\n",
    "\n",
    "c.execute('''CREATE TABLE result (pk_result INTEGER PRIMARY KEY,\n",
    "fk_query INTEGER REFERENCES \"query\" (pk_query) MATCH SIMPLE,\n",
    "description TEXT,\n",
    "result TEXT,\n",
    "insert_data_into TEXT,\n",
    "notes TEXT, \n",
    "timestmp text DEFAULT ((datetime('now','localtime'))))\n",
    "''')\n",
    "\n",
    "# Save (commit) the changes\n",
    "cn.commit()\n",
    "cn.close()"
   ]
  },
  {
   "cell_type": "code",
   "execution_count": 12,
   "id": "drawn-course",
   "metadata": {},
   "outputs": [],
   "source": [
    "cn = sql.connect(db)\n",
    "c = cn.cursor()\n",
    "\n",
    "# Create table 'entity'\n",
    "# STOP #  c.execute('''DROP TABLE entity''')\n",
    "\n",
    "c.execute('''CREATE TABLE entity\n",
    "             (pk_entity INTEGER PRIMARY KEY, local_authority BOOLEAN DEFAULT TRUE, \n",
    "             fk_same_entity INTEGER REFERENCES [entity] (pk_entity) MATCH SIMPLE,\n",
    "             uri_entity TEXT, entity_class TEXT, source TEXT,\n",
    "             fk_query_as_source INTEGER REFERENCES [query] (pk_query) MATCH SIMPLE,\n",
    "             entity_std_name TEXT, notes TEXT, \n",
    "             timestmp text DEFAULT ((datetime('now','localtime'))),\n",
    "             UNIQUE (uri_entity, entity_class, source) ON CONFLICT IGNORE)''')\n",
    "\n",
    "# Save (commit) the changes \n",
    "cn.commit()\n",
    "cn.close()"
   ]
  },
  {
   "cell_type": "code",
   "execution_count": 13,
   "id": "statewide-cartridge",
   "metadata": {},
   "outputs": [],
   "source": [
    "cn = sql.connect(db)\n",
    "c = cn.cursor()\n",
    "\n",
    "# Create table 'property'\n",
    "# STOP # c.execute('''DROP TABLE property''')\n",
    "\n",
    "c.execute('''CREATE TABLE property\n",
    "             (pk_property INTEGER PRIMARY KEY, \n",
    "             fk_entity INTEGER REFERENCES [entity] (pk_entity) MATCH SIMPLE,\n",
    "             uri_entity TEXT, property TEXT, value TEXT, \n",
    "             source TEXT, quality INTEGER, fk_query_as_source INTEGER REFERENCES [query] (pk_query) MATCH SIMPLE,\n",
    "             additional_property_1 TEXT, value_1 TEXT,\n",
    "             additional_property_2 TEXT, value_2 TEXT,\n",
    "             additional_property_3 TEXT, value_3 TEXT,\n",
    "             notes TEXT, \n",
    "             timestmp text DEFAULT ((datetime('now','localtime'))),\n",
    "             UNIQUE (uri_entity, property, value, source) ON CONFLICT IGNORE)''')\n",
    "\n",
    "# Save (commit) the changes \n",
    "cn.commit()\n",
    "cn.close()"
   ]
  },
  {
   "cell_type": "markdown",
   "id": "adapted-comfort",
   "metadata": {},
   "source": [
    "### Manually versioning the database\n",
    "\n",
    "This operation creates a copy of the database identified by a _timestamp_. To be used before any significant operation on the database (modification of the structure, imports by Python scripts, etc.) in order to avoid data loss.\n",
    "\n",
    "This operation is performed on the data and is different from versioning the code with GIT."
   ]
  },
  {
   "cell_type": "code",
   "execution_count": 22,
   "id": "amazing-province",
   "metadata": {},
   "outputs": [
    {
     "data": {
      "text/plain": [
       "'20210512_222524'"
      ]
     },
     "execution_count": 22,
     "metadata": {},
     "output_type": "execute_result"
    }
   ],
   "source": [
    "###  Function retrieving and formatting time at runtime\n",
    "def timestamp_formatted_for_file_name():\n",
    "    is_now = time.strftime('%Y%m%d_%H%M%S')\n",
    "    return is_now\n",
    "timestamp_formatted_for_file_name()"
   ]
  },
  {
   "cell_type": "code",
   "execution_count": 24,
   "id": "finnish-summer",
   "metadata": {},
   "outputs": [
    {
     "data": {
      "text/plain": [
       "'db_stores/sparql_queries_20210512_222600.sqlite'"
      ]
     },
     "execution_count": 24,
     "metadata": {},
     "output_type": "execute_result"
    }
   ],
   "source": [
    "timestamped_db_copy = db.replace('.db', '_' + timestamp_formatted_for_file_name() + '.sqlite')\n",
    "copied_db = copyfile(db, timestamped_db_copy)\n",
    "copied_db"
   ]
  }
 ],
 "metadata": {
  "kernelspec": {
   "display_name": "Py3.10 sparql",
   "language": "python",
   "name": "py310_sparql"
  },
  "language_info": {
   "codemirror_mode": {
    "name": "ipython",
    "version": 3
   },
   "file_extension": ".py",
   "mimetype": "text/x-python",
   "name": "python",
   "nbconvert_exporter": "python",
   "pygments_lexer": "ipython3",
   "version": "3.10.9"
  }
 },
 "nbformat": 4,
 "nbformat_minor": 5
}
