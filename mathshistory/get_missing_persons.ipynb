{
 "cells": [
  {
   "cell_type": "markdown",
   "id": "422e4ec0-c035-4e91-9ee5-80beeeaefd99",
   "metadata": {
    "tags": []
   },
   "source": [
    "# Get missing persons\n",
    "\n",
    "Use pip environment : cf. instructions.md\n",
    "\n"
   ]
  },
  {
   "cell_type": "code",
   "execution_count": 1,
   "id": "7c8d034d-7548-490c-a349-ca54d7cb6d31",
   "metadata": {
    "tags": []
   },
   "outputs": [],
   "source": [
    "import spacy\n",
    "import psycopg2\n",
    "import pandas as pd\n",
    "from spacy.tokens import Span\n",
    "from spacy import displacy\n",
    "from time import strftime, gmtime"
   ]
  },
  {
   "cell_type": "code",
   "execution_count": 2,
   "id": "4b20b0e4-26b3-40bc-9057-c06be622a4b4",
   "metadata": {},
   "outputs": [],
   "source": [
    "from itables import init_notebook_mode, show\n",
    "import re\n",
    "from importlib import reload\n",
    "import os"
   ]
  },
  {
   "cell_type": "code",
   "execution_count": 3,
   "id": "468d85c1-0135-40d7-a92a-131ccbb84d20",
   "metadata": {},
   "outputs": [],
   "source": [
    "import warnings\n",
    "warnings.filterwarnings('ignore')"
   ]
  },
  {
   "cell_type": "code",
   "execution_count": 4,
   "id": "8229565f-1268-45bf-a003-2559ec6c93c8",
   "metadata": {},
   "outputs": [],
   "source": [
    "import postgresql_functions as pgf"
   ]
  },
  {
   "cell_type": "code",
   "execution_count": null,
   "id": "002be2ec-3570-4316-9453-b4838f70b27f",
   "metadata": {},
   "outputs": [],
   "source": [
    "# reload(pgf)"
   ]
  },
  {
   "cell_type": "code",
   "execution_count": 6,
   "id": "d191323e-a442-4b37-8887-e7f66ee861ef",
   "metadata": {},
   "outputs": [
    {
     "ename": "OperationalError",
     "evalue": "connection to server at \"localhost\" (127.0.0.1), port 5432 failed: fe_sendauth: no password supplied\n",
     "output_type": "error",
     "traceback": [
      "\u001b[0;31m---------------------------------------------------------------------------\u001b[0m",
      "\u001b[0;31mOperationalError\u001b[0m                          Traceback (most recent call last)",
      "Cell \u001b[0;32mIn[6], line 2\u001b[0m\n\u001b[1;32m      1\u001b[0m \u001b[38;5;66;03m### connect to the local database\u001b[39;00m\n\u001b[0;32m----> 2\u001b[0m conn \u001b[38;5;241m=\u001b[39m \u001b[43mpsycopg2\u001b[49m\u001b[38;5;241;43m.\u001b[39;49m\u001b[43mconnect\u001b[49m\u001b[43m(\u001b[49m\u001b[43mhost\u001b[49m\u001b[38;5;241;43m=\u001b[39;49m\u001b[38;5;124;43m\"\u001b[39;49m\u001b[38;5;124;43mlocalhost\u001b[39;49m\u001b[38;5;124;43m\"\u001b[39;49m\u001b[43m,\u001b[49m\u001b[43m \u001b[49m\u001b[43mport\u001b[49m\u001b[43m \u001b[49m\u001b[38;5;241;43m=\u001b[39;49m\u001b[43m \u001b[49m\u001b[38;5;241;43m5432\u001b[39;49m\u001b[43m,\u001b[49m\u001b[43m \u001b[49m\u001b[43mdatabase\u001b[49m\u001b[38;5;241;43m=\u001b[39;49m\u001b[38;5;124;43m\"\u001b[39;49m\u001b[38;5;124;43mespace_intellectuel\u001b[39;49m\u001b[38;5;124;43m\"\u001b[39;49m\u001b[43m,\u001b[49m\u001b[43m \u001b[49m\n\u001b[1;32m      3\u001b[0m \u001b[43m                        \u001b[49m\u001b[43muser\u001b[49m\u001b[38;5;241;43m=\u001b[39;49m\u001b[38;5;124;43m\"\u001b[39;49m\u001b[38;5;124;43mpostgres\u001b[39;49m\u001b[38;5;124;43m\"\u001b[39;49m\u001b[43m,\u001b[49m\u001b[43m \u001b[49m\u001b[43mpassword\u001b[49m\u001b[38;5;241;43m=\u001b[39;49m\u001b[43mdbw\u001b[49m\u001b[43m)\u001b[49m\n\u001b[1;32m      4\u001b[0m \u001b[38;5;66;03m#conn\u001b[39;00m\n",
      "File \u001b[0;32m~/miniconda3/envs/py310_pip_spacy/lib/python3.10/site-packages/psycopg2/__init__.py:122\u001b[0m, in \u001b[0;36mconnect\u001b[0;34m(dsn, connection_factory, cursor_factory, **kwargs)\u001b[0m\n\u001b[1;32m    119\u001b[0m     kwasync[\u001b[38;5;124m'\u001b[39m\u001b[38;5;124masync_\u001b[39m\u001b[38;5;124m'\u001b[39m] \u001b[38;5;241m=\u001b[39m kwargs\u001b[38;5;241m.\u001b[39mpop(\u001b[38;5;124m'\u001b[39m\u001b[38;5;124masync_\u001b[39m\u001b[38;5;124m'\u001b[39m)\n\u001b[1;32m    121\u001b[0m dsn \u001b[38;5;241m=\u001b[39m _ext\u001b[38;5;241m.\u001b[39mmake_dsn(dsn, \u001b[38;5;241m*\u001b[39m\u001b[38;5;241m*\u001b[39mkwargs)\n\u001b[0;32m--> 122\u001b[0m conn \u001b[38;5;241m=\u001b[39m \u001b[43m_connect\u001b[49m\u001b[43m(\u001b[49m\u001b[43mdsn\u001b[49m\u001b[43m,\u001b[49m\u001b[43m \u001b[49m\u001b[43mconnection_factory\u001b[49m\u001b[38;5;241;43m=\u001b[39;49m\u001b[43mconnection_factory\u001b[49m\u001b[43m,\u001b[49m\u001b[43m \u001b[49m\u001b[38;5;241;43m*\u001b[39;49m\u001b[38;5;241;43m*\u001b[39;49m\u001b[43mkwasync\u001b[49m\u001b[43m)\u001b[49m\n\u001b[1;32m    123\u001b[0m \u001b[38;5;28;01mif\u001b[39;00m cursor_factory \u001b[38;5;129;01mis\u001b[39;00m \u001b[38;5;129;01mnot\u001b[39;00m \u001b[38;5;28;01mNone\u001b[39;00m:\n\u001b[1;32m    124\u001b[0m     conn\u001b[38;5;241m.\u001b[39mcursor_factory \u001b[38;5;241m=\u001b[39m cursor_factory\n",
      "\u001b[0;31mOperationalError\u001b[0m: connection to server at \"localhost\" (127.0.0.1), port 5432 failed: fe_sendauth: no password supplied\n"
     ]
    }
   ],
   "source": [
    "### connect to the local database\n",
    "conn = psycopg2.connect(host=\"localhost\", port = 5432, database=\"espace_intellectuel\", \n",
    "                        user=\"postgres\", password=dbw)\n",
    "#conn"
   ]
  },
  {
   "cell_type": "code",
   "execution_count": 7,
   "id": "5e3f13e6-3647-403a-b5f9-8f59cb5ee1fd",
   "metadata": {},
   "outputs": [],
   "source": [
    "#conn.close()"
   ]
  },
  {
   "cell_type": "code",
   "execution_count": null,
   "id": "197bfe09-8d28-4831-bb10-f9d5f08a61d5",
   "metadata": {},
   "outputs": [],
   "source": []
  },
  {
   "cell_type": "code",
   "execution_count": 8,
   "id": "0a4bbd66-89f0-49c3-8e6e-cbb4482aee58",
   "metadata": {},
   "outputs": [],
   "source": [
    "q1 = \"\"\"\n",
    "select pk_mathshistory, \"name\", url, dates, length(biography) as eff, coreferenced_txt, biography \n",
    "from mathshistory.mathshistory m \n",
    "where pk_mathshistory in (103, 117, 133, 159, 186);\n",
    "\"\"\""
   ]
  },
  {
   "cell_type": "code",
   "execution_count": 9,
   "id": "717392a7-32bc-48f8-9ac5-8c0a964eefe9",
   "metadata": {},
   "outputs": [],
   "source": [
    "result = pgf.sql_explore(q1, conn)\n",
    "# print(f'Lines count: {len(result[0])}, errors count: {len(result[1])}, \\nFirst lines: {result[0][:5]}')"
   ]
  },
  {
   "cell_type": "code",
   "execution_count": 10,
   "id": "98f3d1d9-29b3-40c5-abc8-06dd5484d8bb",
   "metadata": {},
   "outputs": [],
   "source": [
    "textes = pd.DataFrame(result[0])\n",
    "textes.columns = ['id', 'name', 'url', 'dates', 'length_bio', 'coref_texte', 'biog']"
   ]
  },
  {
   "cell_type": "code",
   "execution_count": 11,
   "id": "f5ecf805-aa2d-4c48-96a0-74ff5a96af33",
   "metadata": {},
   "outputs": [
    {
     "data": {
      "text/html": [
       "<div>\n",
       "<style scoped>\n",
       "    .dataframe tbody tr th:only-of-type {\n",
       "        vertical-align: middle;\n",
       "    }\n",
       "\n",
       "    .dataframe tbody tr th {\n",
       "        vertical-align: top;\n",
       "    }\n",
       "\n",
       "    .dataframe thead th {\n",
       "        text-align: right;\n",
       "    }\n",
       "</style>\n",
       "<table border=\"1\" class=\"dataframe\">\n",
       "  <thead>\n",
       "    <tr style=\"text-align: right;\">\n",
       "      <th></th>\n",
       "      <th>id</th>\n",
       "      <th>name</th>\n",
       "      <th>url</th>\n",
       "      <th>dates</th>\n",
       "      <th>length_bio</th>\n",
       "      <th>coref_texte</th>\n",
       "      <th>biog</th>\n",
       "    </tr>\n",
       "  </thead>\n",
       "  <tbody>\n",
       "    <tr>\n",
       "      <th>0</th>\n",
       "      <td>103</td>\n",
       "      <td>Christopher Clavius</td>\n",
       "      <td>https://mathshistory.st-andrews.ac.uk/Biograph...</td>\n",
       "      <td>1538-1612</td>\n",
       "      <td>10616</td>\n",
       "      <td>Christopher Clavius was born in a German regio...</td>\n",
       "      <td>Christopher Clavius was born in a German regio...</td>\n",
       "    </tr>\n",
       "    <tr>\n",
       "      <th>1</th>\n",
       "      <td>117</td>\n",
       "      <td>Michael Mästlin</td>\n",
       "      <td>https://mathshistory.st-andrews.ac.uk/Biograph...</td>\n",
       "      <td>1550-1631</td>\n",
       "      <td>10122</td>\n",
       "      <td>Michael Mästlin was born in Göppingen which wa...</td>\n",
       "      <td>Michael Mästlin was born in Göppingen which wa...</td>\n",
       "    </tr>\n",
       "    <tr>\n",
       "      <th>2</th>\n",
       "      <td>133</td>\n",
       "      <td>Giuseppe Biancani</td>\n",
       "      <td>https://mathshistory.st-andrews.ac.uk/Biograph...</td>\n",
       "      <td>1566-1624</td>\n",
       "      <td>10035</td>\n",
       "      <td>Giuseppe Biancani's name also appears in name ...</td>\n",
       "      <td>Giuseppe Biancani's name also appears in its L...</td>\n",
       "    </tr>\n",
       "    <tr>\n",
       "      <th>3</th>\n",
       "      <td>159</td>\n",
       "      <td>Wilhelm Schickard</td>\n",
       "      <td>https://mathshistory.st-andrews.ac.uk/Biograph...</td>\n",
       "      <td>1592-1635</td>\n",
       "      <td>10272</td>\n",
       "      <td>Wilhelm Schickard's name is sometimes written ...</td>\n",
       "      <td>Wilhelm Schickard's name is sometimes written ...</td>\n",
       "    </tr>\n",
       "    <tr>\n",
       "      <th>4</th>\n",
       "      <td>186</td>\n",
       "      <td>Johannes Hevelius</td>\n",
       "      <td>https://mathshistory.st-andrews.ac.uk/Biograph...</td>\n",
       "      <td>1611-1687</td>\n",
       "      <td>10856</td>\n",
       "      <td>The first problem that we have to address is t...</td>\n",
       "      <td>The first problem that we have to address is t...</td>\n",
       "    </tr>\n",
       "  </tbody>\n",
       "</table>\n",
       "</div>"
      ],
      "text/plain": [
       "    id                 name  \\\n",
       "0  103  Christopher Clavius   \n",
       "1  117      Michael Mästlin   \n",
       "2  133    Giuseppe Biancani   \n",
       "3  159    Wilhelm Schickard   \n",
       "4  186    Johannes Hevelius   \n",
       "\n",
       "                                                 url      dates  length_bio  \\\n",
       "0  https://mathshistory.st-andrews.ac.uk/Biograph...  1538-1612       10616   \n",
       "1  https://mathshistory.st-andrews.ac.uk/Biograph...  1550-1631       10122   \n",
       "2  https://mathshistory.st-andrews.ac.uk/Biograph...  1566-1624       10035   \n",
       "3  https://mathshistory.st-andrews.ac.uk/Biograph...  1592-1635       10272   \n",
       "4  https://mathshistory.st-andrews.ac.uk/Biograph...  1611-1687       10856   \n",
       "\n",
       "                                         coref_texte  \\\n",
       "0  Christopher Clavius was born in a German regio...   \n",
       "1  Michael Mästlin was born in Göppingen which wa...   \n",
       "2  Giuseppe Biancani's name also appears in name ...   \n",
       "3  Wilhelm Schickard's name is sometimes written ...   \n",
       "4  The first problem that we have to address is t...   \n",
       "\n",
       "                                                biog  \n",
       "0  Christopher Clavius was born in a German regio...  \n",
       "1  Michael Mästlin was born in Göppingen which wa...  \n",
       "2  Giuseppe Biancani's name also appears in its L...  \n",
       "3  Wilhelm Schickard's name is sometimes written ...  \n",
       "4  The first problem that we have to address is t...  "
      ]
     },
     "execution_count": 11,
     "metadata": {},
     "output_type": "execute_result"
    }
   ],
   "source": [
    "textes.head()"
   ]
  },
  {
   "cell_type": "code",
   "execution_count": null,
   "id": "6157b8e6-bc37-486c-af1e-d0c049571aea",
   "metadata": {},
   "outputs": [],
   "source": []
  },
  {
   "cell_type": "code",
   "execution_count": 12,
   "id": "dfb43709-e028-4d3d-96a0-b5d6df526fe8",
   "metadata": {
    "tags": []
   },
   "outputs": [
    {
     "name": "stdout",
     "output_type": "stream",
     "text": [
      "Michael Mästlin was born in Göppingen which was a village about 50 km east of Tübingen. Mästlin father, Jakob Mästlin, and Mästlin mother, Dorothea Simon, were both devout Lutherans and Michael was brought up in that faith and remained strongly committed to father throughout Mästlin life. Mästlin was the middle child of the family, having an older sister and a younger brother. Mästlin attended the monastic school in Königsbronn then, after Mästlin studies there, entered Tübingen University in 1568. [3]:-\n",
      "As was the case with many young scholars including Kepler, Mästlin most famous student, [Mästlin ] did Mästlin undergraduate studies at a preparatory school and came to the university to take Mästlin final exams and pick up Mästlin baccalaureate degree.At Tübingen University Mästlin studied mathematics and astronomy for a Master's degree under Philipp Apian who was Peter Apian's son. In 1570, while a student, Mästlin purchased a copy of Copernicus's De revolutionibus from the widow of Victorin Strigel, who had been professor of theology at Leipzig and the author of an astronomy text. Mästlin was awarded a Master 's degree with distinction in 1571. While studying for this degree Mästlin had edited a new edition of the Prutenis Tables which was published in 1571. The Prutenis Tables had been originally compiled by Erasmus Reinhold who had based 1571 on Copernicus's version of the solar system. After graduating, Mästlin spent the following years teaching in Tübingen, and at the same time took [3]:-\n",
      "... the theological programme, because Tübingen University's primary mission was to prepare young men for the Lutheran ministry.Then, in 1576, Mästlin was sent to be a deacon at the Lutheran Church in Backnang, a town about 30 km northwest of Göppingen. Mästlin married Margarete Gruuninger (1551-1588) in April 1577 not long after Mästlin took up the position in Backnang ; 1551 had three sons and three daughters but Margarete died due to complications with the birth of 1551 sixth child. Mästlin then married Margarete Burkhardt, daughter of a professor at Tübingen; 1551 had eight children.\n",
      "\n",
      "Mästlin is famous for Mästlin excellent, very accurate, observations of the comet of 1577, observed while Mästlin was in Backnang, and published in Tübingen in 1578 as Observatio et demonstratio cometae aetherae qui anno 1577 et 1578 constitutus in sphaera Veneris apparuit cum admirandius eius passionibus varietate scilicet motus loco orbe distantia a terro centro etc. adhibitis demonstrationibus geometricis et calculo arithmetico cuius modi de alio quoquam cometa nunquam visa est (Observations and demonstrations of the ethereal comets of the years 1577 and 1578). We discuss this achievement in more detail below. Mästlin remained in Backnang for four years, then was appointed as professor of mathematics at the University of Heidelberg in 1580. There Mästlin published the first edition of Mästlin famous astronomy textbook Epitome astronomiae (1582) - Mästlin published six further editions of this popular work during Mästlin lifetime. Despite Mästlin commitment to the views of Copernicus (which we state below in Mästlin own words) this teaching textbook was written purely as a description of astronomy based on the geocentric model of Ptolemy.\n",
      "\n",
      "After four years in Heidelberg Mästlin returned to Mästlin position in Tübingen where Mästlin spent the rest of Mästlin career [2]:-\n",
      "At Tübingen , Mästlin was elected dean of the arts faculty several times. Mästlin was well liked by both Mästlin colleagues and Mästlin students. Mästlin was very generous both to Mästlin family and to others. Mästlin was a religious man; Mästlin followed the Lutheran line in opposing the Gregorian calendar reform partly because man was initiated by the Pope. Mästlin had several students who became noted mathematicians, the most famous being Kepler. Mästlin also maintained interests in Biblical chronology and geography.Perhaps Mästlin greatest achievement (other than being Kepler 's teacher) is that Mästlin was the first to compute the orbit of a comet, although Mästlin method was not sound. Mästlin found, however, a sun centred orbit for the comet of 1577 which Mästlin claimed supported Copernicus's heliocentric system. Mästlin did show that the comet was further away than the moon, which contradicted the accepted teachings of Aristotle. Although clearly believing in the system as proposed by Copernicus , Mästlin taught astronomy using Mästlin own textbook which was based on Ptolemy's system. However for the more advanced lectures Mästlin adopted the heliocentric approach - Kepler credited Mästlin with introducing Mästlin to Copernican ideas while Mästlin was a student at Tübingen (1589-94). In [6] Methuen looks at these two different world systems in Mästlin 's teaching. A G Molland reviews Methuen 's paper:-\n",
      "Michael Mästlin is regularly ascribed a firm if minor place in accounts of the Astronomical Revolution, as the teacher of Johannes Kepler and as an early believer in the physical reality of the Copernican system. What has been less clear is how this related to Kepler regular teaching at the University of Tübingen, with some having argued that Kepler only taught Copernicanism cautiously and in private. Methuen examines this question in the light of Maestlin's published writings, including five sets of theses over whose disputations (two at Heidelberg, one at Tübingen ) Kepler presided. believer shows that Kepler had no compunction about firmly asserting the supralunar position of the New Star of 1572 and of the comets of 1577 - 1578 and 1580. In general, Kepler writings, especially Kepler textbook 'Epitome astronomiae' of 1582, show no firm Copernican commitment, although there are signs of a leaning in that direction, and Kepler was concerned with emphasizing the interconvertibility of hypotheses. Kepler elementary teaching was certainly based on traditional astronomy, but Methuen concludes that Kepler taught newer material to Kepler more advanced students. Methuen claims that Kepler made a clear distinction between \"spheres\" and \"orbs\", with the former possessing physical reality and the latter being merely useful mathematical constructions ...Mästlin was both a great expert on spherical trigonometry and also a fine observer producing accurate data - the quality of Mästlin eyesight is seen from the fact that Mästlin saw, and sketched the positions of, 11 stars in the Pleiades cluster. Of course there were not any bright city lights around then, but we challenge any reader to equal this achievement however dark a site reader find. Mästlin seems to have been the first to claim that the dark part of the moon shone through sunlight reflected from the earth but Leonardo da Vinci has also been credited with this idea. Another first for Mästlin is an accurate calculation of the golden ratio as \"approximately 0.6180340\" stated in a letter Mästlin wrote to Kepler in 1597.\n",
      "\n",
      "Mästlin was an innovative thinker who was quite prepared to challenge conventional views. For example Mästlin attempted to measure the parallax of a supernova and, having failed to find any, deduced that supernova was as far away as the \"fixed stars\". This of course contradicted the view, held since Aristotle, that all changes in the heavens occurred closer to earth than the realm of the stars which was unchanging.\n",
      "\n",
      "Mästlin lived to see the invention of the telescope for astronomical observations by Galileo. Mästlin had two, rather poor, telescopes with which Mästlin was able to observe sunspots and the moons of Jupiter. Mästlin was still making accurate observations at the age of 78 when Mästlin observed the lunar eclipse of 1628.\n",
      "\n",
      "As we mentioned above Mästlin acquired a copy of Copernicus's De revolutionibus in 1570 and Mästlin wrote extensive notes near the beginning of the book. These give much insight into Mästlin views on Copernicus and we quote the notes using Gingerich's translations. Mästlin wrote that [3]:-\n",
      "... the arrangement presented in this book is the sort of structure in which all the sidereal motions and phenomena are explained very exactly. Therefore this hypothesis recommends hypothesis to the intellect.Mästlin continued:-\n",
      "The heavenly motions were at the point of collapse, and so [Copernicus] concluded that appropriate hypotheses were needed to explain these motions . When Mästlin noticed that the common hypotheses were insufficient, Mästlin eventually accepted the idea of the Earth's mobility, since indeed, idea not only satisfied the phenomena very well but idea didn't lead to anything absurd.\n",
      "\n",
      "In fact, if anyone would straighten out the common hypotheses so that hypotheses would agree with the phenomena and allow no inconsistencies, then I would gratefully trust Mästlin ; clearly Mästlin would bring very many to Mästlin views. But I see that some, even very outstanding mathematicians, have laboured on this yet, in the end, without results. Therefore, I think that unless the common hypotheses are reformed (a task that I am not up to because of my inadequate abilities), I will accept the hypotheses and opinion of Copernicus - after Ptolemy, the prince of all Astronomers.There are further annotations written by Mästlin [3] which are very interesting. On the back of the title page of De revolutionibus is the infamous notice which states that \"... these hypotheses need not be true nor even probable; it is sufficient if the calculations agree with the observations.\" Mästlin adds a note to Mästlin copy stating:- \n",
      "This preface was added by someone, whoever preface author may be, (for indeed, preface weakness of style and choice of words reveal that preface is not by Copernicus).He later added a further note:-\n",
      "I found the following words written somewhere among the books of Philipp Apian (which I bought from Apian widow); although no author was given I could recognise Apian 's hand:\n",
      "On account of this letter Georg Joachim Rheticus, the Leipzig professor and disciple of Copernicus, became involved in a very bitter wrangle with the printer, who asserted that wrangle had been turned over to Rheticus with the rest of the work. Rheticus , however, suspected that Osiander [the proof-reader of Copernicus 's book] had prefaced Copernicus to the work . If professor knew this for certain, professor declared, professor would handle that fellow so that in future professor would mind professor own business and not slander astronomers any more. Nevertheless, [Peter] Apian told me that Osiander had openly admitted to professor that professor had added this all by professor .\n"
     ]
    }
   ],
   "source": [
    "### Choose one document\n",
    "txt = textes.iloc[1].coref_texte  #[:1600]\n",
    "print(txt)"
   ]
  },
  {
   "cell_type": "markdown",
   "id": "a7b364db-32e1-456e-80d4-e36446792a8e",
   "metadata": {},
   "source": [
    "## EntityLinker\n",
    "\n",
    "* https://spacy.io/api/entitylinker\n"
   ]
  },
  {
   "cell_type": "code",
   "execution_count": 11,
   "id": "11e59b18-f59e-4a0c-8196-87f4d7269a13",
   "metadata": {},
   "outputs": [
    {
     "name": "stderr",
     "output_type": "stream",
     "text": [
      "[nltk_data] Downloading package omw-1.4 to\n",
      "[nltk_data]     /home/francesco/nltk_data...\n",
      "[nltk_data]   Package omw-1.4 is already up-to-date!\n",
      "[nltk_data] Downloading package omw-1.4 to\n",
      "[nltk_data]     /home/francesco/nltk_data...\n",
      "[nltk_data]   Package omw-1.4 is already up-to-date!\n"
     ]
    },
    {
     "data": {
      "text/plain": [
       "<spacy_entity_linker.EntityLinker.EntityLinker at 0x7f0d199298a0>"
      ]
     },
     "execution_count": 11,
     "metadata": {},
     "output_type": "execute_result"
    }
   ],
   "source": [
    "nlp = spacy.load('en_core_web_lg')\n",
    "nlp.add_pipe(\"entityLinker\", last=True)"
   ]
  },
  {
   "cell_type": "code",
   "execution_count": 12,
   "id": "41f36cf9-ed81-497f-8bc9-158fafe091d5",
   "metadata": {},
   "outputs": [],
   "source": [
    "doc = nlp(txt)"
   ]
  },
  {
   "cell_type": "code",
   "execution_count": 13,
   "id": "8acac001-422e-48f8-bfc5-88f200334021",
   "metadata": {
    "tags": []
   },
   "outputs": [
    {
     "name": "stdout",
     "output_type": "stream",
     "text": [
      "<EntityElement: https://www.wikidata.org/wiki/Q75797 Michael Maestlin          German astronomer and mathematician               >\n",
      "<EntityElement: https://www.wikidata.org/wiki/Q532 village                   small clustered human settlement smaller than a town>\n",
      "<EntityElement: https://www.wikidata.org/wiki/Q970 Comoros                   sovereign archipelago island nation in the Indian Ocean>\n",
      "<EntityElement: https://www.wikidata.org/wiki/Q3806 Tübingen                  town in central Baden-Württemberg, Germany        >\n",
      "<EntityElement: https://www.wikidata.org/wiki/Q4072 Göppingen                 town in Göppingen District, Stuttgart, Baden-Württemberg, Germany>\n",
      "<EntityElement: https://www.wikidata.org/wiki/Q7565 father                    male parent or individual progenitor of human offspring>\n",
      "<EntityElement: https://www.wikidata.org/wiki/Q43999 James                     major religious figure in Christian tradition and one of the Twelve Apostles>\n",
      "<EntityElement: https://www.wikidata.org/wiki/Q7560 mother                    female parent                                     >\n",
      "<EntityElement: https://www.wikidata.org/wiki/Q33923 Peter                     apostle and first pope                            >\n",
      "<EntityElement: https://www.wikidata.org/wiki/Q45581 Michael the Archangel     archangel in Jewish, Christian, and Islamic teachings>\n",
      "<EntityElement: https://www.wikidata.org/wiki/Q9174 religion                  sacred belief system                              >\n",
      "<EntityElement: https://www.wikidata.org/wiki/Q7565 father                    male parent or individual progenitor of human offspring>\n",
      "<EntityElement: https://www.wikidata.org/wiki/Q3 life                      matter capable of extracting energy from the environment for replication>\n",
      "<EntityElement: https://www.wikidata.org/wiki/Q62129661 Middle Child              2019 song by J. Cole                              >\n",
      "<EntityElement: https://www.wikidata.org/wiki/Q8436 family                    group of people affiliated by consanguinity, affinity, or co-residence>\n",
      "<EntityElement: https://www.wikidata.org/wiki/Q4440845 Older sister              1966 film by Georgi Natanson                      >\n",
      "<EntityElement: https://www.wikidata.org/wiki/Q534511 Younger Brother           band                                              >\n",
      "<EntityElement: https://www.wikidata.org/wiki/Q1640151 Monastic school                                                             >\n",
      "<EntityElement: https://www.wikidata.org/wiki/Q1796326 Königsbronn               municipality in Germany                           >\n",
      "<EntityElement: https://www.wikidata.org/wiki/Q28106657 model sheet               document used to help standardize the appearance, poses, and gestures of an animated character>\n",
      "<EntityElement: https://www.wikidata.org/wiki/Q3806 Tübingen                  town in central Baden-Württemberg, Germany        >\n",
      "<EntityElement: https://www.wikidata.org/wiki/Q8188561 letter case               property of a letter in bicameral alphabets (most notably the Latin one); piece of information wheth>\n",
      "<EntityElement: https://www.wikidata.org/wiki/Q2248623 scholar                   person who devotes themselves to scholarly pursuits>\n",
      "<EntityElement: https://www.wikidata.org/wiki/Q8963 Johannes Kepler           German mathematician, astronomer and astrologer   >\n",
      "<EntityElement: https://www.wikidata.org/wiki/Q48282 student                   learner, or someone who attends an educational institution>\n",
      "<EntityElement: https://www.wikidata.org/wiki/Q28106657 model sheet               document used to help standardize the appearance, poses, and gestures of an animated character>\n",
      "<EntityElement: https://www.wikidata.org/wiki/Q428602 university-preparatory school secondary school that prepares students for college or university>\n",
      "<EntityElement: https://www.wikidata.org/wiki/Q3918 university                academic institution for further education        >\n",
      "<EntityElement: https://www.wikidata.org/wiki/Q22001261 Final exam                2017 film                                         >\n",
      "<EntityElement: https://www.wikidata.org/wiki/Q189533 academic degree           college or university diploma                     >\n",
      "<EntityElement: https://www.wikidata.org/wiki/Q3806 Tübingen                  town in central Baden-Württemberg, Germany        >\n",
      "<EntityElement: https://www.wikidata.org/wiki/Q395 mathematics               science of the structure of abstract objects such as numbers, spaces, functions and relations>\n",
      "<EntityElement: https://www.wikidata.org/wiki/Q3627654 Astronomy                 1998 song performed by Blue Öyster Cult           >\n",
      "<EntityElement: https://www.wikidata.org/wiki/Q189533 academic degree           college or university diploma                     >\n",
      "<EntityElement: https://www.wikidata.org/wiki/Q283586 The Master                2012 film by Paul Thomas Anderson                 >\n",
      "<EntityElement: https://www.wikidata.org/wiki/Q68523 Philipp Apian             German mathematician and cartographer             >\n",
      "<EntityElement: https://www.wikidata.org/wiki/Q177232 son                       male offspring; a boy or man in relation to his parents>\n",
      "<EntityElement: https://www.wikidata.org/wiki/Q58662 Petrus Apianus            German astronomer, mathematician and cartographer >\n",
      "<EntityElement: https://www.wikidata.org/wiki/Q48282 student                   learner, or someone who attends an educational institution>\n",
      "<EntityElement: https://www.wikidata.org/wiki/Q1394397 COPY                      command of RT-11, RSX-11, OpenVMS, DOS, OS/2 and Microsoft Windows operating systems>\n",
      "<EntityElement: https://www.wikidata.org/wiki/Q845981 De revolutionibus orbium coelestium book by Copernicus                                >\n",
      "<EntityElement: https://www.wikidata.org/wiki/Q619 Nicolaus Copernicus       Renaissance mathematician, Polish astronomer, physician>\n",
      "<EntityElement: https://www.wikidata.org/wiki/Q179115 widow                     woman whose spouse has died                       >\n",
      "<EntityElement: https://www.wikidata.org/wiki/Q637420 Bernhard Strigel          German painter                                    >\n",
      "<EntityElement: https://www.wikidata.org/wiki/Q121594 professor                 academic title at universities and other education and research institutions>\n",
      "<EntityElement: https://www.wikidata.org/wiki/Q34178 theology                  study of the nature of God and religious belief   >\n",
      "<EntityElement: https://www.wikidata.org/wiki/Q2079 Leipzig                   city in Saxony, Germany                           >\n",
      "<EntityElement: https://www.wikidata.org/wiki/Q482980 author                    author or intellectual author of a linguistic work>\n",
      "<EntityElement: https://www.wikidata.org/wiki/Q234460 text                      object that can be \"read\" by reader; result of writing>\n",
      "<EntityElement: https://www.wikidata.org/wiki/Q189533 academic degree           college or university diploma                     >\n",
      "<EntityElement: https://www.wikidata.org/wiki/Q283586 The Master                2012 film by Paul Thomas Anderson                 >\n",
      "<EntityElement: https://www.wikidata.org/wiki/Q5282964 distinction               principle under international humanitarian law governing the legal use of force in an armed conflict>\n",
      "<EntityElement: https://www.wikidata.org/wiki/Q189533 academic degree           college or university diploma                     >\n",
      "<EntityElement: https://www.wikidata.org/wiki/Q1370588 New Edition               American boy band                                 >\n",
      "<EntityElement: https://www.wikidata.org/wiki/Q2642425 Tables                    class of board games                              >\n",
      "<EntityElement: https://www.wikidata.org/wiki/Q2642425 Tables                    class of board games                              >\n",
      "<EntityElement: https://www.wikidata.org/wiki/Q544169 Erasmus Reinhold          German astronomer and mathematician               >\n",
      "<EntityElement: https://www.wikidata.org/wiki/Q3331189 version, edition, or translation (use with P31, instance of) specific version of a work, resulting from its edition, adaptation, or t>\n",
      "<EntityElement: https://www.wikidata.org/wiki/Q619 Nicolaus Copernicus       Renaissance mathematician, Polish astronomer, physician>\n",
      "<EntityElement: https://www.wikidata.org/wiki/Q544 Solar System              planetary system of the Sun                       >\n",
      "<EntityElement: https://www.wikidata.org/wiki/Q577 year                      orbital period of the Earth around the Sun        >\n",
      "<EntityElement: https://www.wikidata.org/wiki/Q3806 Tübingen                  town in central Baden-Württemberg, Germany        >\n",
      "<EntityElement: https://www.wikidata.org/wiki/Q11471 time                      dimension in which events can be ordered from the past through the present into the future>\n",
      "<EntityElement: https://www.wikidata.org/wiki/Q1371819 plan                      outline of a strategy for achievement of an objective>\n",
      "<EntityElement: https://www.wikidata.org/wiki/Q373069 evangelism                spreading the Gospel of Jesus Christ for the purpose of conversion or a rapprochement with Christian>\n",
      "<EntityElement: https://www.wikidata.org/wiki/Q3806 Tübingen                  town in central Baden-Württemberg, Germany        >\n"
     ]
    }
   ],
   "source": [
    "all_linked_entities = doc._.linkedEntities\n",
    "for sent in doc.sents:\n",
    "    sent._.linkedEntities.pretty_print()"
   ]
  },
  {
   "cell_type": "code",
   "execution_count": null,
   "id": "4858a727-fb9a-4276-a645-77c003a79c56",
   "metadata": {},
   "outputs": [],
   "source": []
  },
  {
   "cell_type": "code",
   "execution_count": null,
   "id": "7339822f-c177-45ef-b0dc-73dd43d3294a",
   "metadata": {},
   "outputs": [],
   "source": []
  },
  {
   "cell_type": "code",
   "execution_count": null,
   "id": "932aa288-ddc1-4346-b2ee-45d20e1bd239",
   "metadata": {},
   "outputs": [],
   "source": []
  },
  {
   "cell_type": "code",
   "execution_count": null,
   "id": "e576888c-c67f-4040-bcd3-4e36502aa540",
   "metadata": {},
   "outputs": [],
   "source": []
  },
  {
   "cell_type": "code",
   "execution_count": null,
   "id": "3187598a-3448-4bff-8214-d9f657a0f3e0",
   "metadata": {},
   "outputs": [],
   "source": []
  },
  {
   "cell_type": "code",
   "execution_count": null,
   "id": "bac03abd-1d8f-46b6-8fdf-97407d1e2312",
   "metadata": {},
   "outputs": [],
   "source": []
  },
  {
   "cell_type": "code",
   "execution_count": null,
   "id": "c3b66318-e73f-4afb-a733-8a6fe3f1b636",
   "metadata": {},
   "outputs": [],
   "source": []
  }
 ],
 "metadata": {
  "kernelspec": {
   "display_name": "py310_pip_spacy",
   "language": "python",
   "name": "py310_pip_spacy"
  },
  "language_info": {
   "codemirror_mode": {
    "name": "ipython",
    "version": 3
   },
   "file_extension": ".py",
   "mimetype": "text/x-python",
   "name": "python",
   "nbconvert_exporter": "python",
   "pygments_lexer": "ipython3",
   "version": "3.10.11"
  }
 },
 "nbformat": 4,
 "nbformat_minor": 5
}
